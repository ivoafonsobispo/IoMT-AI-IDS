{
 "cells": [
  {
   "cell_type": "markdown",
   "id": "944afa8e",
   "metadata": {},
   "source": [
    "#### Importing Testing & Training Datasets\n",
    "\n",
    "The datasets are the following (<mark>both are saved under the directory Datasets/BLE/Pickle Datasets</mark>):\n",
    "- Training_Binary.pkl\n",
    "- Testing_Binary.pkl"
   ]
  },
  {
   "cell_type": "code",
   "execution_count": null,
   "id": "e29c775f",
   "metadata": {},
   "outputs": [],
   "source": [
    "import pickle as pkl\n",
    "import os\n",
    "\n",
    "FILENAME_TESTING = 'Testing_Binary.pkl'\n",
    "FILENAME_TRAINING = 'Training_Binary.pkl'\n",
    "DIRECTORY = '../../Datasets/BLE/Pickle Datasets'\n",
    "\n",
    "dataset_training = os.path.join(DIRECTORY, FILENAME_TRAINING)\n",
    "dataset_testing = os.path.join(DIRECTORY, FILENAME_TESTING)\n",
    "\n",
    "# Loading Train Fraction \n",
    "with open(dataset_training, 'rb') as f:\n",
    "    x_train, y_train = pkl.load(f)\n",
    "\n",
    "# Loading Test Fraction \n",
    "with open(dataset_testing, 'rb') as f:\n",
    "    x_test, y_test = pkl.load(f)\n",
    "\n",
    "print(f'[DONE] Loading Train Fraction')\n",
    "print(f'[DONE] Loading Test Fraction')"
   ]
  },
  {
   "cell_type": "code",
   "execution_count": null,
   "id": "513cf380",
   "metadata": {},
   "outputs": [],
   "source": [
    "import tensorflow.keras\n",
    "from tensorflow.keras import backend as K\n",
    "\n",
    "# Metrics for real-time usage in the model below\n",
    "def recall_m(y_true, y_pred):\n",
    "    true_positives = K.sum(K.round(K.clip(y_true * y_pred, 0, 1)))\n",
    "    possible_positives = K.sum(K.round(K.clip(y_true, 0, 1)))\n",
    "    recall = true_positives / (possible_positives + K.epsilon())\n",
    "    return recall\n",
    "\n",
    "def precision_m(y_true, y_pred):\n",
    "    true_positives = K.sum(K.round(K.clip(y_true * y_pred, 0, 1)))\n",
    "    predicted_positives = K.sum(K.round(K.clip(y_pred, 0, 1)))\n",
    "    precision = true_positives / (predicted_positives + K.epsilon())\n",
    "    return precision\n",
    "\n",
    "def f1_m(y_true, y_pred):\n",
    "    precision = precision_m(y_true, y_pred)\n",
    "    recall = recall_m(y_true, y_pred)\n",
    "    return 2 * ((precision * recall) / (precision + recall + K.epsilon()))"
   ]
  },
  {
   "cell_type": "code",
   "execution_count": null,
   "id": "bb6f9e7c",
   "metadata": {},
   "outputs": [],
   "source": [
    "from tensorflow.keras.models import Sequential\n",
    "from tensorflow.keras.layers import Dense, Dropout, Activation\n",
    "from tensorflow.keras.callbacks import EarlyStopping, ReduceLROnPlateau\n",
    "\n",
    "# Neural Network Model\n",
    "model = Sequential()\n",
    "model.add(Dense(50, input_dim = x.shape[1], activation = 'relu')) # Hidden 1\n",
    "model.add(Dropout(0.5))\n",
    "model.add(Dense(25, activation = 'relu')) # Hidden 2\n",
    "model.add(Dropout(0.5))\n",
    "model.add(Dense(y.shape[1], activation = 'softmax')) # Output\n",
    "model.compile(loss = 'categorical_crossentropy', optimizer = 'adam', metrics = [f1_m])\n",
    "\n",
    "# Early Stopping\n",
    "monitor = EarlyStopping(\n",
    "    monitor = 'val_loss', \n",
    "    min_delta = 1e-3, \n",
    "    patience = 10, \n",
    "    verbose = 1, \n",
    "    mode = 'auto', \n",
    "    restore_best_weights = True\n",
    ")\n",
    "\n",
    "# Reduce On Plateau\n",
    "reduce = ReduceLROnPlateau(\n",
    "    monitor = 'val_loss',\n",
    "    factor = 0.5,\n",
    "    patience = 10,\n",
    "    verbose = 1,\n",
    "    mode = 'auto',\n",
    "    min_lr = 1e-5\n",
    ")\n",
    "\n",
    "# Model\n",
    "model.fit(\n",
    "    x_train, \n",
    "    y_train, \n",
    "    validation_data = (x_test, y_test), \n",
    "    callbacks = [reduce],\n",
    "    verbose = 2,\n",
    "    epochs = 200\n",
    ")\n",
    "\n",
    "# Save the model\n",
    "model.save('Saved_Models/Contiki/Model_Binary.h5')"
   ]
  }
 ],
 "metadata": {
  "kernelspec": {
   "display_name": "Python 3 (ipykernel)",
   "language": "python",
   "name": "python3"
  },
  "language_info": {
   "codemirror_mode": {
    "name": "ipython",
    "version": 3
   },
   "file_extension": ".py",
   "mimetype": "text/x-python",
   "name": "python",
   "nbconvert_exporter": "python",
   "pygments_lexer": "ipython3",
   "version": "3.9.2"
  }
 },
 "nbformat": 4,
 "nbformat_minor": 5
}
