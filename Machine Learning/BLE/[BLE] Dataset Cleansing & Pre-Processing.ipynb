{
 "cells": [
  {
   "cell_type": "markdown",
   "id": "cb119c8b-1469-41bc-8293-a02a186f315f",
   "metadata": {},
   "source": [
    "### Dataset Cleansing & Pre-Processing"
   ]
  },
  {
   "cell_type": "markdown",
   "id": "8acca0b2",
   "metadata": {},
   "source": [
    "**The table below represents all the fields of the dataset as well as their descriptions and the encoding process done in each one of the fields.**\n",
    "\n",
    "Type of pre-processing / data encoding done: <mark>Categorical Values (Dummies)</mark>, <mark>Z-Score Normalization</mark>, <mark>Empty Cells Filling</mark>, and <mark>Value Replacing.</mark>\n",
    "\n",
    "It's important to notice that the field **is_malicious** was later added to the dataset in order to distinguish normal traffic from the malicious one.\n",
    "\n",
    "- \\[0\\] - Normal\n",
    "- \\[1\\] - Reconnaissance\n",
    "\n",
    "| Field | Description | Deleted | Categorical Values (Dummies) | Z-Score Normalization | Empty Cells Filling | Hexadecimal Convert |\n",
    "|:---|:---|:---:|:---:|:---:|:---:|:---:|\n",
    "| btle.access_address | Access Address | &#x2714; | - | - | - | - |\n",
    "| btle.access_address.bit_errors | AccessAddress has errors present at capture | &#x2714; | - | - | - | - |\n",
    "| btle.access_address.illegal | AccessAddress has illegal value | &#x2714; | - | - | - | - |\n",
    "| btle.access_address.matched | AccessAddress matched at capture | &#x2714; | - | - | - | - |\n",
    "| btle.advertising_address | Advertising Address | &#x2714; | - | - | - | - |\n",
    "| btle.advertising_header | Packet Header | - | - | &#x2714; | - | &#x2714; |\n",
    "| btle.advertising_header.ch_sel | Channel Selection Algorithm | - | - | - | &#x2714; | - |\n",
    "| btle.advertising_header.length | Length | - | - | - | - | - |\n",
    "| btle.advertising_header.pdu_type | PDU Type | - | - | &#x2714; | - | &#x2714; |\n",
    "| btle.advertising_header.randomized_rx | Rx Address | - | - | - | &#x2714; | - |\n",
    "| btle.advertising_header.randomized_tx | Tx Address | - | - | - | &#x2714; | - |\n",
    "| btle.advertising_header.rfu.1 | Reserved | - | - | - | - | - |\n",
    "| btle.advertising_header.rfu.2 | Reserved | - | - | - | &#x2714; | - |\n",
    "| btle.advertising_header.rfu.3 | Reserved | - | - | - | &#x2714; | - |\n",
    "| btle.advertising_header.rfu.4 | Reserved | - | - | - | &#x2714; | - |\n",
    "| btle.coding_indicator | Coding Indicator | &#x2714; | - | - | - | - |\n",
    "| btle.control.channel_map | Channel Map | &#x2714; | - | - | - | - |\n",
    "| btle.control.company_id | Company Id | &#x2714; | - | - | - | - |\n",
    "| btle.control.encrypted_diversifier | Encrypted Diversifier | &#x2714; | - | - | - | - |\n",
    "| btle.control.error_code | Error Code | &#x2714; | - | - | - | - |\n",
    "| btle.control.feature_set | Feature Set | &#x2714; | - | - | - | - |\n",
    "| btle.control.feature_set.ch_sel_2 | Channel Selection Algorithm #2 | &#x2714; | - | - | - | - |\n",
    "| btle.control.feature_set.connection_parameters_request_procedure | Connection Parameters Request Procedure | &#x2714; | - | - | - | - |\n",
    "| btle.control.feature_set.ext_scan_flt_pol | Extended Scanner Filter Policies | &#x2714; | - | - | - | - |\n",
    "| btle.control.feature_set.extended_reject_indication | Extended Reject Indication | &#x2714; | - | - | - | - |\n",
    "| btle.control.feature_set.le_2m_phy | LE 2M PHY | &#x2714; | - | - | - | - |\n",
    "| btle.control.feature_set.le_coded_phy | LE Coded PHY | &#x2714; | - | - | - | - |\n",
    "| btle.control.feature_set.le_encryption | LE Encryption | &#x2714; | - | - | - | - |\n",
    "| btle.control.feature_set.le_extended_adv | LE Extended Advertising | &#x2714; | - | - | - | - |\n",
    "| btle.control.feature_set.le_ping | LE Ping | &#x2714; | - | - | - | - |\n",
    "| btle.control.feature_set.le_pkt_len_ext | LE Data Packet Length Extension | &#x2714; | - | - | - | - |\n",
    "| btle.control.feature_set.le_power_class_1 | LE Power Class 1 | &#x2714; | - | - | - | - |\n",
    "| btle.control.feature_set.le_privacy | LL Privacy | &#x2714; | - | - | - | - |\n",
    "| btle.control.feature_set.min_num_used_ch_proc | Minimum Number of Used Channels Procedure | &#x2714; | - | - | - | - |\n",
    "| btle.control.feature_set.periodic_adv | LE Periodic Advertising | &#x2714; | - | - | - | - |\n",
    "| btle.control.feature_set.reserved | Reserved | &#x2714; | - | - | - | - |\n",
    "| btle.control.feature_set.reserved_bits | Reserved | &#x2714; | - | - | - | - |\n",
    "| btle.control.feature_set.slave_initiated_features_exchange | Slave Initiated Features Exchange | &#x2714; | - | - | - | - |\n",
    "| btle.control.feature_set.st_mod_idx_rx | Stable Modulation Index - Receiver | &#x2714; | - | - | - | - |\n",
    "| btle.control.feature_set.st_mod_idx_tx | Stable Modulation Index - Transmitter | &#x2714; | - | - | - | - |\n",
    "| btle.control.instant | Instant | - | - | - | - | - |\n",
    "| btle.control.interval | Interval | &#x2714; | - | - | - | - |\n",
    "| btle.control.interval.max | Interval Max | &#x2714; | - | - | - | - |\n",
    "| btle.control.interval.min | Interval Min | &#x2714; | - | - | - | - |\n",
    "| btle.control.latency | Latency | &#x2714; | - | - | - | - |\n",
    "| btle.control.m_to_s_phy | Master to Slave PHY | &#x2714; | - | - | - | - |\n",
    "| btle.control.master_session_initialization_vector | Master Session Initialization Vector | &#x2714; | - | - | - | - |\n",
    "| btle.control.master_session_key_diversifier | Master Session Key Diversifier | &#x2714; | - | - | - | - |\n",
    "| btle.control.max_rx_octets | Max RX octets | &#x2714; | - | - | - | - |\n",
    "| btle.control.max_rx_time | Max RX time | &#x2714; | - | - | - | - |\n",
    "| btle.control.max_tx_octets | Max TX octets | &#x2714; | - | - | - | - |\n",
    "| btle.control.max_tx_time | Max TX time | &#x2714; | - | - | - | - |\n",
    "| btle.control.min_used_channels | Minimum Used Channels | &#x2714; | - | - | - | - |\n",
    "| btle.control.offset.0 | Offset 0 | &#x2714; | - | - | - | - |\n",
    "| btle.control.offset.1 | Offset 1 | &#x2714; | - | - | - | - |\n",
    "| btle.control.offset.2 | Offset 2 | &#x2714; | - | - | - | - |\n",
    "| btle.control.offset.3 | Offset 3 | &#x2714; | - | - | - | - |\n",
    "| btle.control.offset.4 | Offset 4 | &#x2714; | - | - | - | - |\n",
    "| btle.control.offset.5 | Offset 5 | &#x2714; | - | - | - | - |\n",
    "| btle.control.phys | PHYs | &#x2714; | - | - | - | - |\n",
    "| btle.control.phys.le_1m_phy | Sender prefers to use the LE 1M PHY | &#x2714; | - | - | - | - |\n",
    "| btle.control.phys.le_2m_phy | Sender prefers to use the LE 2M PHY | &#x2714; | - | - | - | - |\n",
    "| btle.control.phys.le_coded_phy | Sender prefers to use the LE Coded PHY | &#x2714; | - | - | - | - |\n",
    "| btle.control.phys.reserved | Reserved for future use | &#x2714; | - | - | - | - |\n",
    "| btle.control.preferred_periodicity | Preferred Periodicity | &#x2714; | - | - | - | - |\n",
    "| btle.control.random_number | Random Number | &#x2714; | - | - | - | - |\n",
    "| btle.control.reference_connection_event_count | Reference Connection Event Count | &#x2714; | - | - | - | - |\n",
    "| btle.control.reject_opcode | Reject Opcode | &#x2714; | - | - | - | - |\n",
    "| btle.control.rx_phys | RX PHYs | &#x2714; | - | - | - | - |\n",
    "| btle.control.s_to_m_phy | Slave to Master PHY | &#x2714; | - | - | - | - |\n",
    "| btle.control.slave_session_initialization_vector | Slave Session Initialization Vector | &#x2714; | - | - | - | - |\n",
    "| btle.control.slave_session_key_diversifier | Slave Session Key Diversifier | &#x2714; | - | - | - | - |\n",
    "| btle.control.subversion_number | Subversion Number | &#x2714; | - | - | - | - |\n",
    "| btle.control.timeout | Timeout | &#x2714; | - | - | - | - |\n",
    "| btle.control.tx_phys | TX PHYs | &#x2714; | - | - | - | - |\n",
    "| btle.control.unknown_type | Unknown Type | &#x2714; | - | - | - | - |\n",
    "| btle.control.version_number | Version Number | &#x2714; | - | - | - | - |\n",
    "| btle.control.window_offset | Window Offset | &#x2714; | - | - | - | - |\n",
    "| btle.control.window_size | Window Size | &#x2714; | - | - | - | - |\n",
    "| btle.control_opcode | Control Opcode | &#x2714; | - | - | - | - |\n",
    "| btle.crc | CRC | &#x2714; | - | - | - | - |\n",
    "| btle.crc.incorrect | Incorrect CRC | - | - | - | &#x2714; | - |\n",
    "| btle.crc.indeterminate | CRC unchecked, not all data available | &#x2714; | - | - | - | - |\n",
    "| btle.data_header | Data Header | &#x2714; | - | - | - | - |\n",
    "| btle.data_header.length | Length | &#x2714; | - | - | - | - |\n",
    "| btle.data_header.llid | LLID | &#x2714; | - | - | - | - |\n",
    "| btle.data_header.more_data | More Data | &#x2714; | - | - | - | - |\n",
    "| btle.data_header.next_expected_sequence_number | Next Expected Sequence Number | &#x2714; | - | - | - | - |\n",
    "| btle.data_header.rfu | RFU | &#x2714; | - | - | - | - |\n",
    "| btle.data_header.sequence_number | Sequence Number | &#x2714; | - | - | - | - |\n",
    "| btle.ea.host_advertising_data.fragment | EA HAD fragment | &#x2714; | - | - | - | - |\n",
    "| btle.ea.host_advertising_data.fragment.count | EA HAD fragment count | &#x2714; | - | - | - | - |\n",
    "| btle.ea.host_advertising_data.fragment.error | EA HAD defragmentation error | &#x2714; | - | - | - | - |\n",
    "| btle.ea.host_advertising_data.fragment.multiple_tails | EA HAD has multiple tail fragments | &#x2714; | - | - | - | - |\n",
    "| btle.ea.host_advertising_data.fragment.overlap | EA HAD fragment overlap | &#x2714; | - | - | - | - |\n",
    "| btle.ea.host_advertising_data.fragment.overlap.conflicts | EA HAD fragment overlapping with conflicting data | &#x2714; | - | - | - | - |\n",
    "| btle.ea.host_advertising_data.fragment.too_long_fragment | EA HAD fragment too long | &#x2714; | - | - | - | - |\n",
    "| btle.ea.host_advertising_data.fragments | EA HAD fragments | &#x2714; | - | - | - | - |\n",
    "| btle.ea.host_advertising_data.reassembled.in | Reassembled in | &#x2714; | - | - | - | - |\n",
    "| btle.ea.host_advertising_data.reassembled.length | Reassembled EA HAD length | &#x2714; | - | - | - | - |\n",
    "| btle.extended_advertising.advertising_data_info | Advertiser Data Info | - | - | &#x2714; | - | &#x2714; |\n",
    "| btle.extended_advertising.advertising_data_info.did | Advertiser Data Identifier | - | - | &#x2714; | - | &#x2714; |\n",
    "| btle.extended_advertising.advertising_data_info.sid | Advertiser Set Identifier | - | - | &#x2714; | - | &#x2714; |\n",
    "| btle.extended_advertising.aux_pointer | Advertiser Aux Pointer | &#x2714; | - | - | - | - |\n",
    "| btle.extended_advertising.had_fragment | Host Advertising Data Fragment | &#x2714; | - | - | - | - |\n",
    "| btle.extended_advertising.sync_info | Advertiser Sync Info | &#x2714; | - | - | - | - |\n",
    "| btle.extended_advertising_header | Extended Advertising Header | &#x2714; | - | - | - | - |\n",
    "| btle.extended_advertising_header.acad | Additional Controller Advertising Data | &#x2714; | - | - | - | - |\n",
    "| btle.extended_advertising_header.advertiser_data_info | Advertiser Data Info | &#x2714; | - | - | - | - |\n",
    "| btle.extended_advertising_header.aux_pointer.aux_offset | Aux Offset | &#x2714; | - | - | - | - |\n",
    "| btle.extended_advertising_header.aux_pointer.aux_phy | Aux PHY | &#x2714; | - | - | - | - |\n",
    "| btle.extended_advertising_header.aux_pointer.ca | Clock Accuracy | &#x2714; | - | - | - | - |\n",
    "| btle.extended_advertising_header.aux_pointer.channel | Channel Index | &#x2714; | - | - | - | - |\n",
    "| btle.extended_advertising_header.aux_pointer.offset_units | Offset units | &#x2714; | - | - | - | - |\n",
    "| btle.extended_advertising_header.cte_info | CTE Info | &#x2714; | - | - | - | - |\n",
    "| btle.extended_advertising_header.cte_info.rfu | RFU: Reserved for Future | &#x2714; | - | - | - | - |\n",
    "| btle.extended_advertising_header.cte_info.time | CTE Time | &#x2714; | - | - | - | - |\n",
    "| btle.extended_advertising_header.cte_info.type | CTE Type | &#x2714; | - | - | - | - |\n",
    "| btle.extended_advertising_header.flags | Extended Header Flags | &#x2714; | - | - | - | - |\n",
    "| btle.extended_advertising_header.flags.advertiser_address | Advertiser Address | &#x2714; | - | - | - | - |\n",
    "| btle.extended_advertising_header.flags.aux_pointer | Aux pointer | &#x2714; | - | - | - | - |\n",
    "| btle.extended_advertising_header.flags.cte_info | CTE Info | &#x2714; | - | - | - | - |\n",
    "| btle.extended_advertising_header.flags.reserved | Reserved | &#x2714; | - | - | - | - |\n",
    "| btle.extended_advertising_header.flags.sync_info | Sync Info | &#x2714; | - | - | - | - |\n",
    "| btle.extended_advertising_header.flags.target_address | Target Address | &#x2714; | - | - | - | - |\n",
    "| btle.extended_advertising_header.flags.tx_power | TX Power | &#x2714; | - | - | - | - |\n",
    "| btle.extended_advertising_header.length | Extended Header Length | &#x2714; | - | - | - | - |\n",
    "| btle.extended_advertising_header.mode | Advertising Mode | &#x2714; | - | - | - | - |\n",
    "| btle.extended_advertising_header.sync_info.access_address | Access Address | &#x2714; | - | - | - | - |\n",
    "| btle.extended_advertising_header.sync_info.channel_map | Channel Map | &#x2714; | - | - | - | - |\n",
    "| btle.extended_advertising_header.sync_info.crc_init | CRC Init | &#x2714; | - | - | - | - |\n",
    "| btle.extended_advertising_header.sync_info.event_counter | Event counter | &#x2714; | - | - | - | - |\n",
    "| btle.extended_advertising_header.sync_info.interval | Interval | &#x2714; | - | - | - | - |\n",
    "| btle.extended_advertising_header.sync_info.offset_adjust | Offset Adjust | &#x2714; | - | - | - | - |\n",
    "| btle.extended_advertising_header.sync_info.offset_units | Offset Units | &#x2714; | - | - | - | - |\n",
    "| btle.extended_advertising_header.sync_info.sleep_clock_accuracy | Sleep Clock Accuracy | &#x2714; | - | - | - | - |\n",
    "| btle.extended_advertising_header.sync_info.sync_offset | Sync Offset | &#x2714; | - | - | - | - |\n",
    "| btle.extended_advertising_header.tx_power | TX Power | &#x2714; | - | - | - | - |\n",
    "| btle.initiator_address | Initiator Address | &#x2714; | - | - | - | - |\n",
    "| btle.l2cap.fragment | L2CAP fragment | &#x2714; | - | - | - | - |\n",
    "| btle.l2cap.fragment.count | L2CAP fragment count | &#x2714; | - | - | - | - |\n",
    "| btle.l2cap.fragment.error | L2CAP defragmentation error | &#x2714; | - | - | - | - |\n",
    "| btle.l2cap.fragment.multiple_tails | L2CAP has multiple tail fragments | &#x2714; | - | - | - | - |\n",
    "| btle.l2cap.fragment.overlap | L2CAP fragment overlap | &#x2714; | - | - | - | - |\n",
    "| btle.l2cap.fragment.overlap.conflicts | L2CAP fragment overlapping with conflicting data | &#x2714; | - | - | - | - |\n",
    "| btle.l2cap.fragment.too_long_fragment | L2CAP fragment too long | &#x2714; | - | - | - | - |\n",
    "| btle.l2cap.fragments | L2CAP fragments | &#x2714; | - | - | - | - |\n",
    "| btle.l2cap.reassembled.in | Reassembled in | &#x2714; | - | - | - | - |\n",
    "| btle.l2cap.reassembled.length | Reassembled L2CAP length | &#x2714; | - | - | - | - |\n",
    "| btle.l2cap_data | L2CAP Fragment | &#x2714; | - | - | - | - |\n",
    "| btle.l2cap_index | L2CAP Index | &#x2714; | - | - | - | - |\n",
    "| btle.length | Length | - | - | - | - | - |\n",
    "| btle.link_layer_data | Link Layer Data | &#x2714; | - | - | - | - |\n",
    "| btle.link_layer_data.access_address | Access Address | &#x2714; | - | - | - | - |\n",
    "| btle.link_layer_data.channel_map | Channel Map | &#x2714; | - | - | - | - |\n",
    "| btle.link_layer_data.crc_init | CRC Init | &#x2714; | - | - | - | - |\n",
    "| btle.link_layer_data.hop | Hop | &#x2714; | - | - | - | - |\n",
    "| btle.link_layer_data.interval | Interval | &#x2714; | - | - | - | - |\n",
    "| btle.link_layer_data.latency | Latency | &#x2714; | - | - | - | - |\n",
    "| btle.link_layer_data.sleep_clock_accuracy | Sleep Clock Accuracy | &#x2714; | - | - | - | - |\n",
    "| btle.link_layer_data.timeout | Timeout | &#x2714; | - | - | - | - |\n",
    "| btle.link_layer_data.window_offset | Window Offset | &#x2714; | - | - | - | - |\n",
    "| btle.link_layer_data.window_size | Window Size | &#x2714; | - | - | - | - |\n",
    "| btle.master_bd_addr | Master Address | &#x2714; | - | - | - | - |\n",
    "| btle.missing_fragment_start | Missing Fragment Start | &#x2714; | - | - | - | - |\n",
    "| btle.retransmit | Retransmission | &#x2714; | - | - | - | - |\n",
    "| btle.scan_responce_data | Scan Response Data | &#x2714; | - | - | - | - |\n",
    "| btle.scanning_address | Scanning Address | &#x2714; | - | - | - | - |\n",
    "| btle.slave_bd_addr | Slave Address | &#x2714; | - | - | - | - |\n",
    "| btle.target_address | Target Address | &#x2714; | - | - | - | - |\n",
    "| frame.cap_len | Frame length stored into the capture file | - | - | &#x2714; | - | - |\n",
    "| frame.coloring_rule.name | Coloring Rule Name | &#x2714; | - | - | - | - |\n",
    "| frame.coloring_rule.string | Coloring Rule String | &#x2714; | - | - | - | - |\n",
    "| frame.comment | Comment | &#x2714; | - | - | - | - |\n",
    "| frame.comment.expert | Formatted comment | &#x2714; | - | - | - | - |\n",
    "| frame.encap_type | Encapsulation type | &#x2714; | - | - | - | - |\n",
    "| frame.file_off | File Offset | &#x2714; | - | - | - | - |\n",
    "| frame.ignored | Frame is ignored | &#x2714; | - | - | - | - |\n",
    "| frame.incomplete | Incomplete dissector | &#x2714; | - | - | - | - |\n",
    "| frame.interface_description | Interface description | &#x2714; | - | - | - | - |\n",
    "| frame.interface_id | Interface id | - | &#x2714; | - | - | - |\n",
    "| frame.interface_name | Interface name | &#x2714; | - | - | - | - |\n",
    "| frame.interface_queue | Interface queue | &#x2714; | - | - | - | - |\n",
    "| frame.len | Frame length on the wire | - | - | &#x2714; | - | - |\n",
    "| frame.link_nr | Link Number | &#x2714; | - | - | - | - |\n",
    "| frame.marked | Frame is marked | &#x2714; | - | - | - | - |\n",
    "| frame.md5_hash | Frame MD5 Hash | &#x2714; | - | - | - | - |\n",
    "| frame.number | Frame Number | &#x2714; | - | - | - | - |\n",
    "| frame.offset_shift | Time shift for this packet | &#x2714; | - | - | - | - |\n",
    "| frame.p2p_dir | Point-to-Point Direction | &#x2714; | - | - | - | - |\n",
    "| frame.packet_flags | Packet flags | &#x2714; | - | - | - | - |\n",
    "| frame.packet_flags_crc_error | CRC error | &#x2714; | - | - | - | - |\n",
    "| frame.packet_flags_direction | Direction | &#x2714; | - | - | - | - |\n",
    "| frame.packet_flags_fcs_length | FCS length | &#x2714; | - | - | - | - |\n",
    "| frame.packet_flags_packet_too_error | Packet too long error | &#x2714; | - | - | - | - |\n",
    "| frame.packet_flags_packet_too_short_error | Packet too short error | &#x2714; | - | - | - | - |\n",
    "| frame.packet_flags_preamble_error | Preamble error | &#x2714; | - | - | - | - |\n",
    "| frame.packet_flags_reception_type | Reception type | &#x2714; | - | - | - | - |\n",
    "| frame.packet_flags_reserved | Reserved | &#x2714; | - | - | - | - |\n",
    "| frame.packet_flags_start_frame_delimiter_error | Start frame delimiter error | &#x2714; | - | - | - | - |\n",
    "| frame.packet_flags_symbol_error | Symbol error | &#x2714; | - | - | - | - |\n",
    "| frame.packet_flags_unaligned_frame_error | Unaligned frame error | &#x2714; | - | - | - | - |\n",
    "| frame.packet_flags_wrong_inter_frame_gap_error | Wrong interframe gap error | &#x2714; | - | - | - | - |\n",
    "| frame.packet_id | Packet id | &#x2714; | - | - | - | - |\n",
    "| frame.protocols | Protocols in frame | &#x2714; | - | - | - | - |\n",
    "| frame.ref_time | This is a Time Reference frame | &#x2714; | - | - | - | - |\n",
    "| frame.time | Arrival Time | &#x2714; | - | - | - | - |\n",
    "| frame.time_delta | Time delta from previous captured frame | &#x2714; | - | - | - | - |\n",
    "| frame.time_delta_displayed | Time delta from previous displayed frame | &#x2714; | - | - | - | - |\n",
    "| frame.time_epoch | Epoch Time | &#x2714; | - | - | - | - |\n",
    "| frame.time_invalid | Arrival Time: Fractional second out of range (0-1000000000) | &#x2714; | - | - | - | - |\n",
    "| frame.time_relative | Time since reference or first frame | &#x2714; | - | - | - | - |\n",
    "| frame.verdict | Verdict | &#x2714; | - | - | - | - |\n",
    "| frame.verdict.ebpf_tc | eBPF TC | &#x2714; | - | - | - | - |\n",
    "| frame.verdict.ebpf_xdp | eBPF XDP | &#x2714; | - | - | - | - |\n",
    "| frame.verdict.hw | Hardware | &#x2714; | - | - | - | - |\n",
    "| fr.becn | BECN | &#x2714; | - | - | - | - |\n",
    "| fr.bogus_address | Bogus address | &#x2714; | - | - | - | - |\n",
    "| fr.chdlctype | Type | &#x2714; | - | - | - | - |\n",
    "| fr.control | Control Field | &#x2714; | - | - | - | - |\n",
    "| fr.control.f | Final | &#x2714; | - | - | - | - |\n",
    "| fr.control.ftype | Frame type | &#x2714; | - | - | - | - |\n",
    "| fr.control.n_r | N(R) | &#x2714; | - | - | - | - |\n",
    "| fr.control.n_s | N(S) | &#x2714; | - | - | - | - |\n",
    "| fr.control.p | Poll | &#x2714; | - | - | - | - |\n",
    "| fr.control.s_ftype | Supervisory frame type | &#x2714; | - | - | - | - |\n",
    "| fr.control.u_modifier_cmd | Command | &#x2714; | - | - | - | - |\n",
    "| fr.control.u_modifier_resp | Response | &#x2714; | - | - | - | - |\n",
    "| fr.cr | CR | &#x2714; | - | - | - | - |\n",
    "| fr.dc | DC | &#x2714; | - | - | - | - |\n",
    "| fr.de | DE | &#x2714; | - | - | - | - |\n",
    "| fr.dlci | DLCI | &#x2714; | - | - | - | - |\n",
    "| fr.dlcore_control | DL-CORE Control | &#x2714; | - | - | - | - |\n",
    "| fr.ea | EA | &#x2714; | - | - | - | - |\n",
    "| fr.fecn | FECN | &#x2714; | - | - | - | - |\n",
    "| fr.first_addr_octet | First address octet | &#x2714; | - | - | - | - |\n",
    "| fr.frame_relay.lapf | Frame relay lapf not yet implemented | &#x2714; | - | - | - | - |\n",
    "| fr.frame_relay.xid | Frame relay xid not yet implemented | &#x2714; | - | - | - | - |\n",
    "| fr.lower_dlci | Lower DLCI | &#x2714; | - | - | - | - |\n",
    "| fr.nlpid | NLPID | &#x2714; | - | - | - | - |\n",
    "| fr.second_addr_octet | Second address octet | &#x2714; | - | - | - | - |\n",
    "| fr.second_dlci | Second DLCI | &#x2714; | - | - | - | - |\n",
    "| fr.snap.oui | Organization Code | &#x2714; | - | - | - | - |\n",
    "| fr.snap.pid | Protocol ID | &#x2714; | - | - | - | - |\n",
    "| fr.snaptype | Type | &#x2714; | - | - | - | - |\n",
    "| fr.third_addr_octet | Third address octet | &#x2714; | - | - | - | - |\n",
    "| fr.third_dlci | Third DLCI | &#x2714; | - | - | - | - |\n",
    "| fr.upper_dlci | Upper DLCI | &#x2714; | - | - | - | - |\n",
    "| nordic_ble.address_resolved | Address Resolved | &#x2714; | - | - | - | - |\n",
    "| nordic_ble.aux_type | Aux Type | &#x2714; | - | - | - | - |\n",
    "| nordic_ble.board_id | Board | - | &#x2714; | - | - | - |\n",
    "| nordic_ble.channel | Channel Index | - | &#x2714; | - | - | - |\n",
    "| nordic_ble.crc.bad | CRC is bad | &#x2714; | - | - | - | - |\n",
    "| nordic_ble.crcok | CRC | - | &#x2714; | - | - | - |\n",
    "| nordic_ble.delta_time | Delta time (end to start) | &#x2714; | - | - | - | - |\n",
    "| nordic_ble.delta_time_ss | Delta time (start to start) | &#x2714; | - | - | - | - |\n",
    "| nordic_ble.direction | Direction | &#x2714; | - | - | - | - |\n",
    "| nordic_ble.encrypted | Encrypted | &#x2714; | - | - | - | - |\n",
    "| nordic_ble.event_counter | Event counter | &#x2714; | - | - | - | - |\n",
    "| nordic_ble.flag_reserved1 | Reserved | &#x2714; | - | - | - | - |\n",
    "| nordic_ble.flag_reserved2 | Reserved | &#x2714; | - | - | - | - |\n",
    "| nordic_ble.flag_reserved7 | Reserved | &#x2714; | - | - | - | - |\n",
    "| nordic_ble.flags | Flags | - | &#x2714; | - | - | &#x2714; |\n",
    "| nordic_ble.header | Header | &#x2714; | - | - | - | - |\n",
    "| nordic_ble.hlen | Length of header | &#x2714; | - | - | - | - |\n",
    "| nordic_ble.legacy_marker | Legacy marker | &#x2714; | - | - | - | - |\n",
    "| nordic_ble.len | Length of packet | &#x2714; | - | - | - | - |\n",
    "| nordic_ble.length.bad | Length is incorrect | &#x2714; | - | - | - | - |\n",
    "| nordic_ble.mic.bad | MIC is bad | &#x2714; | - | - | - | - |\n",
    "| nordic_ble.mic_not_relevant | MIC (not relevant) | &#x2714; | - | - | - | - |\n",
    "| nordic_ble.micok | MIC | &#x2714; | - | - | - | - |\n",
    "| nordic_ble.packet_counter | Packet counter | - | - | &#x2714; | - | - |\n",
    "| nordic_ble.packet_id | Packet ID | &#x2714; | - | - | - | - |\n",
    "| nordic_ble.packet_time | Packet time (start to end) | - | - | &#x2714; | - | - |\n",
    "| nordic_ble.phy | PHY | - | - | - | - | - |\n",
    "| nordic_ble.plen | Length of payload | - | - | &#x2714; | - | - |\n",
    "| nordic_ble.protover | Protocol version | - | - | - | - | - |\n",
    "| nordic_ble.protover.bad | Unknown version | &#x2714; | - | - | - | - |\n",
    "| nordic_ble.rssi | RSSI | &#x2714; | - | - | - | - |\n",
    "| nordic_ble.time | Timestamp | &#x2714; | - | - | - | - |"
   ]
  },
  {
   "cell_type": "markdown",
   "id": "a10e992d",
   "metadata": {},
   "source": [
    "#### Declaration of Functions\n",
    "\n",
    "The section below presents all the functions used in the notebook."
   ]
  },
  {
   "cell_type": "code",
   "execution_count": 1,
   "id": "69ca3844-1cc0-4c03-9eeb-8d181d16d045",
   "metadata": {
    "slideshow": {
     "slide_type": ""
    },
    "tags": []
   },
   "outputs": [],
   "source": [
    "# Function: Read the dataset and return a dataframe\n",
    "import pandas as pd\n",
    "\n",
    "def read_data(dataset):\n",
    "    df = pd.read_csv(dataset)\n",
    "    print(f'[DONE] Dataset imported with success')\n",
    "    return df"
   ]
  },
  {
   "cell_type": "code",
   "execution_count": 2,
   "id": "07a9a990",
   "metadata": {},
   "outputs": [],
   "source": [
    "# Function: Delete unnecessary fields\n",
    "def delete_fields(df, fields):\n",
    "    for i in fields:\n",
    "        df.drop(i, axis = 1, inplace = True)\n",
    "    print(f'[DONE] Fields Deleted')"
   ]
  },
  {
   "cell_type": "code",
   "execution_count": 3,
   "id": "d1426532",
   "metadata": {},
   "outputs": [],
   "source": [
    "# Function: Z-Score normalization\n",
    "from scipy.stats import zscore\n",
    "\n",
    "def zscore_normalization(df, fields):\n",
    "    for i in fields:\n",
    "        df[i] = zscore(df[i])\n",
    "    print(f'[DONE] Z-Score Normalization')"
   ]
  },
  {
   "cell_type": "code",
   "execution_count": 4,
   "id": "e471e8e5",
   "metadata": {},
   "outputs": [],
   "source": [
    "# Function: Fill empty cells with N value\n",
    "def fill_empty_cells(df, fields, n):\n",
    "    for i in fields:\n",
    "        df[i] = df[i].fillna(n)\n",
    "    print(f'[DONE] Empty Cells Filling: ' + n)"
   ]
  },
  {
   "cell_type": "code",
   "execution_count": 5,
   "id": "03f4608f",
   "metadata": {},
   "outputs": [],
   "source": [
    "# Function: Convert fields to dummy variables\n",
    "def dummy_encode(df, fields):\n",
    "    for i in fields:\n",
    "        df = pd.concat([df, pd.get_dummies(df[i], prefix = i, dtype = int)], axis = 1)\n",
    "        df.drop(i, axis = 1, inplace = True)\n",
    "    print(f'[DONE] Categorical Values (Dummies)')\n",
    "    return df"
   ]
  },
  {
   "cell_type": "code",
   "execution_count": 6,
   "id": "2f55ccd6",
   "metadata": {},
   "outputs": [],
   "source": [
    "# Function: Convert hexadecimal to int\n",
    "def hexadecimal_convert(df, fields):\n",
    "    for i in fields:\n",
    "        df[i] = df[i].astype(str)\n",
    "        df[i] = df[i].apply(int, base = 16)\n",
    "    print(f'[DONE] Integer Convert (Hex - Int)')"
   ]
  },
  {
   "cell_type": "markdown",
   "id": "534969e0",
   "metadata": {},
   "source": [
    "#### Declaration of Global Variables\n",
    "\n",
    "The section below presents all the global functions used in the notebook."
   ]
  },
  {
   "cell_type": "code",
   "execution_count": 7,
   "id": "9c7f32b6-f24b-4f18-b419-7cc98b5fd90a",
   "metadata": {
    "scrolled": false,
    "slideshow": {
     "slide_type": ""
    },
    "tags": []
   },
   "outputs": [],
   "source": [
    "# Define: Dataset path\n",
    "DATASET = '../../Datasets/BLE/BLE_Malicious_Dataset.csv'\n",
    "DATASET_EMPTY_COLUMNS_REMOVED = '../../Datasets/BLE/BLE_Malicious_Dataset_Without_Empty_Columns.csv'\n",
    "DATASET_PRE_PROCESSING = '../../Datasets/BLE/BLE_Malicious_Dataset_Pre_Processing.csv'\n",
    "DATASET_FINAL = '../../Datasets/BLE/BLE_Malicious_Dataset_Final.csv'\n",
    "MALICIOUS_ADDR = '28:b2:bd:cd:59:1e'"
   ]
  },
  {
   "cell_type": "markdown",
   "id": "f385e1cf",
   "metadata": {},
   "source": [
    "#### Loading Dataset\n",
    "The upcoming step will load the desired dataset and read all the data from it, storing it in the variable `df`.\n",
    "\n",
    "The code below will reproduce an warning saying the following **\"DtypeWarning: Columns (11, 12, 13) have mixed types\"**. Since the the collumns 11, 12 and 13 represent the fields <mark> \tbtle.extended_advertising.advertising_data_info</mark>, <mark>btle.extended_advertising.advertising_data_info.did</mark>, and <mark>btle.extended_advertising.advertising_data_info.sid</mark> respectively, and these collumns are going to be normalizated later in this notebook, so there is no problem whatsoever about the warning shown."
   ]
  },
  {
   "cell_type": "code",
   "execution_count": 8,
   "id": "c9d7e6a5",
   "metadata": {
    "scrolled": false
   },
   "outputs": [
    {
     "name": "stderr",
     "output_type": "stream",
     "text": [
      "/tmp/ipykernel_17775/1856367518.py:5: DtypeWarning: Columns (100,101,102,109,114,115,116,117,118,128,129,130,132,136,138,153,154,155,166,167,169) have mixed types. Specify dtype option on import or set low_memory=False.\n",
      "  df = pd.read_csv(dataset)\n"
     ]
    },
    {
     "name": "stdout",
     "output_type": "stream",
     "text": [
      "[DONE] Dataset imported with success\n"
     ]
    }
   ],
   "source": [
    "# Import dataset and read the data into a dataframe\n",
    "df = read_data(DATASET)"
   ]
  },
  {
   "cell_type": "markdown",
   "id": "46f3276d",
   "metadata": {},
   "source": [
    "#### Data Cleaning & Attack Labeling\n",
    "\n",
    "This section covers all the data cleaning and attack labeling done in the dataset."
   ]
  },
  {
   "cell_type": "code",
   "execution_count": 9,
   "id": "fd9bc54e",
   "metadata": {},
   "outputs": [
    {
     "name": "stdout",
     "output_type": "stream",
     "text": [
      "[DONE] Remove all empty collumns\n"
     ]
    }
   ],
   "source": [
    "# Remove all empty collumns\n",
    "df.dropna(axis = 1, how = 'all', inplace = True)\n",
    "print(f'[DONE] Remove all empty collumns')"
   ]
  },
  {
   "cell_type": "code",
   "execution_count": 10,
   "id": "c1ef1fb4",
   "metadata": {},
   "outputs": [
    {
     "name": "stdout",
     "output_type": "stream",
     "text": [
      "[DONE] Dataset malicious labeling done with success\n"
     ]
    }
   ],
   "source": [
    "# Labeling the malicious packets\n",
    "import numpy as np\n",
    "\n",
    "df['btle.scanning_address'] = df['btle.scanning_address'].fillna('')\n",
    "df['btle.target_address'] = df['btle.target_address'].fillna('')\n",
    "df['btle.malicious_address'] = df['btle.scanning_address'].astype(str) + df['btle.target_address'].astype(str)\n",
    "df['is_malicious'] = np.where(df['btle.malicious_address'] == MALICIOUS_ADDR, 1, 0)\n",
    "df.drop('btle.malicious_address', axis = 1, inplace = True)\n",
    "print(f'[DONE] Dataset malicious labeling done with success')"
   ]
  },
  {
   "cell_type": "code",
   "execution_count": 11,
   "id": "df78ff0e",
   "metadata": {},
   "outputs": [
    {
     "name": "stdout",
     "output_type": "stream",
     "text": [
      "[DONE] Fields Deleted\n"
     ]
    }
   ],
   "source": [
    "# Array: Fields to delete (IDs, Timestamps, Checksums, etc...)\n",
    "fieldsToDelete = [\n",
    "    'btle.access_address', 'btle.advertising_address', 'btle.crc', 'btle.extended_advertising.aux_pointer',\n",
    "    'btle.extended_advertising.sync_info', 'btle.extended_advertising_header', 'btle.extended_advertising_header.acad',\n",
    "    'btle.extended_advertising_header.advertiser_data_info', 'btle.extended_advertising_header.aux_pointer.aux_offset',\n",
    "    'btle.extended_advertising_header.aux_pointer.aux_phy', 'btle.extended_advertising_header.aux_pointer.ca',\n",
    "    'btle.extended_advertising_header.aux_pointer.channel', 'btle.extended_advertising_header.aux_pointer.offset_units',\n",
    "    'btle.extended_advertising_header.cte_info', 'btle.extended_advertising_header.cte_info.rfu',\n",
    "    'btle.extended_advertising_header.cte_info.time', 'btle.extended_advertising_header.cte_info.type',\n",
    "    'btle.extended_advertising_header.flags', 'btle.extended_advertising_header.flags.advertiser_address',\n",
    "    'btle.extended_advertising_header.flags.aux_pointer', 'btle.extended_advertising_header.flags.cte_info',\n",
    "    'btle.extended_advertising_header.flags.reserved', 'btle.extended_advertising_header.flags.sync_info',\n",
    "    'btle.extended_advertising_header.flags.target_address', 'btle.extended_advertising_header.flags.tx_power',\n",
    "    'btle.extended_advertising_header.length', 'btle.extended_advertising_header.mode',\n",
    "    'btle.extended_advertising_header.sync_info.access_address', 'btle.extended_advertising_header.sync_info.channel_map',\n",
    "    'btle.extended_advertising_header.sync_info.crc_init', 'btle.extended_advertising_header.sync_info.event_counter',\n",
    "    'btle.extended_advertising_header.sync_info.interval', 'btle.extended_advertising_header.sync_info.offset_adjust',\n",
    "    'btle.extended_advertising_header.sync_info.offset_units', 'btle.extended_advertising_header.sync_info.sleep_clock_accuracy',\n",
    "    'btle.extended_advertising_header.sync_info.sync_offset', 'btle.extended_advertising_header.tx_power',\n",
    "    'btle.initiator_address', 'btle.link_layer_data', 'btle.link_layer_data.access_address', 'btle.link_layer_data.channel_map',\n",
    "    'btle.link_layer_data.crc_init', 'btle.link_layer_data.hop', 'btle.link_layer_data.interval',\n",
    "    'btle.link_layer_data.latency', 'btle.link_layer_data.sleep_clock_accuracy', 'btle.link_layer_data.timeout',\n",
    "    'btle.link_layer_data.window_offset', 'btle.link_layer_data.window_size', 'btle.scan_responce_data',\n",
    "    'btle.scanning_address', 'btle.target_address', 'frame.encap_type', 'frame.ignored', 'frame.interface_name',\n",
    "    'frame.marked', 'frame.number', 'frame.offset_shift', 'frame.protocols', 'frame.time', 'frame.time_delta',\n",
    "    'frame.time_delta_displayed', 'frame.time_epoch', 'frame.time_relative', 'nordic_ble.address_resolved',\n",
    "    'nordic_ble.crc.bad', 'nordic_ble.delta_time', 'nordic_ble.delta_time_ss', 'nordic_ble.event_counter',\n",
    "    'nordic_ble.flag_reserved1', 'nordic_ble.flag_reserved2', 'nordic_ble.flag_reserved7', 'nordic_ble.header',\n",
    "    'nordic_ble.len', 'nordic_ble.packet_id', 'nordic_ble.protover', 'nordic_ble.rssi', 'nordic_ble.time',\n",
    "    'btle.advertising_header.randomized_rx', 'btle.advertising_header.rfu.4', 'btle.advertising_header.randomized_tx',\n",
    "    'nordic_ble.plen'\n",
    "]\n",
    "\n",
    "delete_fields(df, fieldsToDelete)"
   ]
  },
  {
   "cell_type": "code",
   "execution_count": 12,
   "id": "7ae8786b",
   "metadata": {},
   "outputs": [
    {
     "name": "stdout",
     "output_type": "stream",
     "text": [
      "[DONE] Dataset without empty collumns saved with success\n"
     ]
    }
   ],
   "source": [
    "# Save the dataset with all empty collumns removed\n",
    "df.to_csv(DATASET_EMPTY_COLUMNS_REMOVED, index = False)\n",
    "print(f'[DONE] Dataset without empty collumns saved with success')"
   ]
  },
  {
   "cell_type": "markdown",
   "id": "4f42eba3",
   "metadata": {},
   "source": [
    "#### Pre-Processing & Data Encoding\n",
    "\n",
    "This section covers all the pre-processing and data encoding done in the dataset."
   ]
  },
  {
   "cell_type": "code",
   "execution_count": 13,
   "id": "304f33cc",
   "metadata": {},
   "outputs": [
    {
     "name": "stdout",
     "output_type": "stream",
     "text": [
      "[DONE] Empty Cells Filling: 0x00000000\n"
     ]
    }
   ],
   "source": [
    "# Array: Hexadecimal fields to fill with 0x00000000\n",
    "hexadecimalFill = [\n",
    "    'btle.extended_advertising.advertising_data_info', 'btle.extended_advertising.advertising_data_info.did',\n",
    "    'btle.extended_advertising.advertising_data_info.sid'\n",
    "]\n",
    "\n",
    "fill_empty_cells(df, hexadecimalFill, '0x00000000') # Fill: 0x00000000"
   ]
  },
  {
   "cell_type": "code",
   "execution_count": 14,
   "id": "74e3a98a",
   "metadata": {
    "scrolled": true
   },
   "outputs": [
    {
     "name": "stdout",
     "output_type": "stream",
     "text": [
      "[DONE] Integer Convert (Hex - Int)\n"
     ]
    }
   ],
   "source": [
    "# Array: Fields to convert from Hexadecimal to Integer\n",
    "hexadecimalFields = [\n",
    "    'btle.advertising_header', 'btle.advertising_header.pdu_type', 'btle.extended_advertising.advertising_data_info',\n",
    "    'btle.extended_advertising.advertising_data_info.did', 'btle.extended_advertising.advertising_data_info.sid',\n",
    "    'nordic_ble.flags'\n",
    "]\n",
    "\n",
    "hexadecimal_convert(df, hexadecimalFields)"
   ]
  },
  {
   "cell_type": "code",
   "execution_count": 15,
   "id": "53611502",
   "metadata": {},
   "outputs": [
    {
     "name": "stdout",
     "output_type": "stream",
     "text": [
      "[DONE] Empty Cells Filling: 0\n",
      "[DONE] Empty Cells Filling: 1\n",
      "[DONE] Empty Cells Filling: -1\n"
     ]
    }
   ],
   "source": [
    "# Array: Fields to fill with a N value\n",
    "fill_0 = [\n",
    "    'btle.crc.incorrect'\n",
    "]\n",
    "\n",
    "fill_positive_1 = [\n",
    "    'btle.advertising_header.ch_sel'\n",
    "]\n",
    "\n",
    "fill_negative_1 = [\n",
    "    'btle.advertising_header.rfu.2', 'btle.advertising_header.rfu.3' \n",
    "]\n",
    "\n",
    "fill_empty_cells(df, fill_0, '0')            # Fill: 0\n",
    "fill_empty_cells(df, fill_positive_1, '1')   # Fill: 1\n",
    "fill_empty_cells(df, fill_negative_1, '-1')  # Fill: -1"
   ]
  },
  {
   "cell_type": "code",
   "execution_count": 16,
   "id": "dbfff3d9",
   "metadata": {},
   "outputs": [
    {
     "name": "stdout",
     "output_type": "stream",
     "text": [
      "[DONE] Z-Score Normalization\n"
     ]
    }
   ],
   "source": [
    "# Array: Fields to apply z-score normalization\n",
    "zScoreNormalization = [\n",
    "    'frame.cap_len', 'frame.len', 'nordic_ble.packet_counter', 'nordic_ble.packet_time',\n",
    "    'btle.advertising_header.pdu_type', 'btle.advertising_header', 'btle.extended_advertising.advertising_data_info',\n",
    "    'btle.extended_advertising.advertising_data_info.did', 'btle.extended_advertising.advertising_data_info.sid'\n",
    "]\n",
    "\n",
    "zscore_normalization(df, zScoreNormalization)"
   ]
  },
  {
   "cell_type": "code",
   "execution_count": 17,
   "id": "ec0298c4",
   "metadata": {},
   "outputs": [
    {
     "name": "stdout",
     "output_type": "stream",
     "text": [
      "[DONE] Categorical Values (Dummies)\n"
     ]
    }
   ],
   "source": [
    "# Array: Fields to transform into categorical variables\n",
    "dummyEncoding = [\n",
    "    'frame.interface_id', 'nordic_ble.board_id', 'nordic_ble.channel', 'nordic_ble.crcok', 'nordic_ble.flags'\n",
    "]\n",
    "\n",
    "df = dummy_encode(df, dummyEncoding)"
   ]
  },
  {
   "cell_type": "code",
   "execution_count": 18,
   "id": "e850b653",
   "metadata": {},
   "outputs": [
    {
     "name": "stdout",
     "output_type": "stream",
     "text": [
      "[DONE] Convertion to float done with success\n"
     ]
    }
   ],
   "source": [
    "# Convert int64 to floats\n",
    "for i in df:\n",
    "    df[i] = df[i].astype(float)\n",
    "print(f'[DONE] Convertion to float done with success')"
   ]
  },
  {
   "cell_type": "code",
   "execution_count": 19,
   "id": "da887523",
   "metadata": {
    "scrolled": true
   },
   "outputs": [
    {
     "name": "stdout",
     "output_type": "stream",
     "text": [
      "[DONE] Dataset with pre-processing saved with success\n"
     ]
    }
   ],
   "source": [
    "# Save the dataset with all the pre-processing and data encoding done\n",
    "df.to_csv(DATASET_PRE_PROCESSING, index = False)\n",
    "print(f'[DONE] Dataset with pre-processing saved with success')"
   ]
  },
  {
   "cell_type": "markdown",
   "id": "09aea782",
   "metadata": {},
   "source": [
    "#### Remove Normal Packets\n",
    "In order to balance the dataset, the upcoming step involves removing a portion of packets. At present, the dataset consists of 9% malicious packets. To achieve balance, approximately 780,000 normal packets will be eliminated."
   ]
  },
  {
   "cell_type": "code",
   "execution_count": 20,
   "id": "1ec82d25",
   "metadata": {},
   "outputs": [
    {
     "data": {
      "text/plain": [
       "is_malicious\n",
       "0.0    99033\n",
       "1.0    95597\n",
       "Name: count, dtype: int64"
      ]
     },
     "execution_count": 20,
     "metadata": {},
     "output_type": "execute_result"
    }
   ],
   "source": [
    "import numpy as np\n",
    "\n",
    "# Get indices of non-malicious packets\n",
    "non_malicious_indices = df[df['is_malicious'] == 0].index\n",
    "\n",
    "# Randomly select 780,000 indices to delete\n",
    "indices_to_delete = np.random.choice(non_malicious_indices, size = 780000, replace = False)\n",
    "\n",
    "# Delete the selected indices from the DataFrame\n",
    "df.drop(indices_to_delete, inplace = True)\n",
    "\n",
    "# Output the number of normal and malicious packets\n",
    "df['is_malicious'].value_counts()"
   ]
  },
  {
   "cell_type": "code",
   "execution_count": 21,
   "id": "5539f8f6",
   "metadata": {
    "scrolled": true
   },
   "outputs": [
    {
     "name": "stdout",
     "output_type": "stream",
     "text": [
      "[DONE] Balanced dataset saved with success\n"
     ]
    }
   ],
   "source": [
    "# Save the balanced dataset\n",
    "df.to_csv(DATASET_FINAL, index = False)\n",
    "print(f'[DONE] Balanced dataset saved with success')"
   ]
  },
  {
   "cell_type": "markdown",
   "id": "5c0c5f4a",
   "metadata": {},
   "source": [
    "#### Dataset Classification & Test/Train Splitting\n",
    "\n",
    "The sections below will cover the following themes: dataset classification, splitting into training and test fractions, and saving the training and testing fractions into separated datasets."
   ]
  },
  {
   "cell_type": "code",
   "execution_count": 22,
   "id": "af550b19",
   "metadata": {},
   "outputs": [
    {
     "name": "stdout",
     "output_type": "stream",
     "text": [
      "[DONE] Numpy Classification\n"
     ]
    }
   ],
   "source": [
    "import numpy as np\n",
    "\n",
    "# Column classification into binary\n",
    "x_columns = df.columns.drop(['is_malicious'])\n",
    "dummies = pd.get_dummies(df['is_malicious'])\n",
    "    \n",
    "x = df[x_columns].values\n",
    "attack = dummies.columns\n",
    "y = dummies.values\n",
    "\n",
    "print(f'[DONE] Numpy Classification')"
   ]
  },
  {
   "cell_type": "code",
   "execution_count": 23,
   "id": "0229f7c1",
   "metadata": {},
   "outputs": [
    {
     "name": "stdout",
     "output_type": "stream",
     "text": [
      "[DONE] Training validation splitting\n"
     ]
    }
   ],
   "source": [
    "from sklearn.model_selection import train_test_split\n",
    "\n",
    "# Splitting the dataset into test and training fractions\n",
    "x_train, x_test, y_train, y_test = train_test_split(\n",
    "    x,\n",
    "    y,\n",
    "    test_size = 0.25,\n",
    "    random_state = 10\n",
    ")\n",
    "\n",
    "print(f'[DONE] Training validation splitting')"
   ]
  },
  {
   "cell_type": "code",
   "execution_count": 24,
   "id": "4516c508",
   "metadata": {
    "scrolled": false
   },
   "outputs": [
    {
     "name": "stdout",
     "output_type": "stream",
     "text": [
      "[DONE] Dataset saved\n",
      "[DONE] Training dataset saved\n",
      "[DONE] Testing dataset saved\n"
     ]
    }
   ],
   "source": [
    "import pickle as pkl\n",
    "\n",
    "# Save dataset\n",
    "with open('Saved Datasets/Dataset_Binary.pkl', 'wb') as f:\n",
    "    pkl.dump([x, y], f)    \n",
    "print(f'[DONE] Dataset saved')\n",
    "\n",
    "# Save training dataset\n",
    "with open('Saved Datasets/Training_Binary.pkl', 'wb') as f:\n",
    "    pkl.dump([x_train, y_train], f)    \n",
    "print(f'[DONE] Training dataset saved')\n",
    "\n",
    "# Save testing dataset\n",
    "with open('Saved Datasets/Testing_Binary.pkl', 'wb') as f:\n",
    "    pkl.dump([x_test, y_test], f)\n",
    "print(f'[DONE] Testing dataset saved')"
   ]
  }
 ],
 "metadata": {
  "kernelspec": {
   "display_name": "Python 3 (ipykernel)",
   "language": "python",
   "name": "python3"
  },
  "language_info": {
   "codemirror_mode": {
    "name": "ipython",
    "version": 3
   },
   "file_extension": ".py",
   "mimetype": "text/x-python",
   "name": "python",
   "nbconvert_exporter": "python",
   "pygments_lexer": "ipython3",
   "version": "3.9.2"
  }
 },
 "nbformat": 4,
 "nbformat_minor": 5
}
