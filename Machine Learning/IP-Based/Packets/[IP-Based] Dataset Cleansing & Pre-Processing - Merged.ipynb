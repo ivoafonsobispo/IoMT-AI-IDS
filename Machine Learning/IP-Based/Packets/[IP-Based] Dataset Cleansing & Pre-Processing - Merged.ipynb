{
 "cells": [
  {
   "cell_type": "markdown",
   "id": "5c89308e",
   "metadata": {},
   "source": [
    "### Declaration of Functions\n",
    "\n",
    "The section below presents all the functions used in the notebook."
   ]
  },
  {
   "cell_type": "code",
   "execution_count": 1,
   "id": "74d6f165",
   "metadata": {},
   "outputs": [],
   "source": [
    "# Function: Read the dataset and return a dataframe\n",
    "import pandas as pd\n",
    "\n",
    "def read_data(dataset):\n",
    "    df = pd.read_csv(dataset, nrows=62500)\n",
    "    print(f'[MALICIOUS] Dataset Imported With Success')\n",
    "    return df"
   ]
  },
  {
   "cell_type": "code",
   "execution_count": 2,
   "id": "641db2b5",
   "metadata": {},
   "outputs": [],
   "source": [
    "# Function: Fill empty cells with N value\n",
    "def fill_empty_cells(df, fields, n, avg=False):\n",
    "    if avg:\n",
    "        for i in fields:\n",
    "            average_n = df[i].mean()\n",
    "            df[i].fillna(average_n, inplace=True)\n",
    "            print(f'[DONE] Empty Cells Filling ({i}): {average_n}')\n",
    "    else:\n",
    "        for i in fields:\n",
    "            df[i] = df[i].fillna(n)\n",
    "            print(f'[DONE] Empty Cells Filling ({i}): {n}')"
   ]
  },
  {
   "cell_type": "code",
   "execution_count": 3,
   "id": "c97cf15e",
   "metadata": {},
   "outputs": [],
   "source": [
    "# Function: Delete unnecessary fields\n",
    "def delete_fields(df, fields):\n",
    "    print('[INFO] Deleting unnecessary fields')\n",
    "    for i in fields:\n",
    "        df.drop(i, axis=1, inplace=True)\n",
    "        print(f'[REMOVED] ' + i)\n",
    "    print('[INFO] Unnecessary fields deleted with success')"
   ]
  },
  {
   "cell_type": "markdown",
   "id": "495f2b6c",
   "metadata": {},
   "source": [
    "### Merging Datasets\n",
    "\n",
    "This section has the purpose to merge all the dataset in a folder and merge them into one."
   ]
  },
  {
   "cell_type": "code",
   "execution_count": null,
   "id": "1eb07139",
   "metadata": {},
   "outputs": [],
   "source": [
    "import pandas as pd\n",
    "import glob\n",
    "\n",
    "# malicious Datasets -- 62.500 Rows Each\n",
    "malicious_datasets = glob.glob('../../../Datasets/IP-Based/Final Samples/*.csv')\n",
    "\n",
    "dataframes = []\n",
    "\n",
    "for dataset in malicious_datasets:\n",
    "    df = read_data(dataset)\n",
    "    dataframes.append(df)\n",
    "\n",
    "# Normal Dataset -- 500.000 Rows\n",
    "df = pd.read_csv('../../../Datasets/IP-Based/Final Samples/Normal/Normal.csv', nrows=500000)\n",
    "print(f'[NORMAL] Dataset Imported With Success')\n",
    "\n",
    "dataframes.append(df)\n",
    "\n",
    "df = pd.concat(dataframes, ignore_index=True)\n",
    "\n",
    "print(df.shape)\n",
    "\n",
    "df.to_csv('../../../Datasets/IP-Based/IP-Based Dataset.csv', index=False)\n",
    "print(f'[MERGED] Dataset Saved With Success')"
   ]
  },
  {
   "cell_type": "markdown",
   "id": "76770c43",
   "metadata": {},
   "source": [
    "### Loading Dataset\n",
    "\n",
    "The upcoming step will load the desired dataset and read all the data from it, storing it in the variable `df`."
   ]
  },
  {
   "cell_type": "code",
   "execution_count": 4,
   "id": "d6223015",
   "metadata": {},
   "outputs": [
    {
     "name": "stdout",
     "output_type": "stream",
     "text": [
      "[DONE] Dataset Imported With Success\n",
      "CPU times: user 4.6 s, sys: 392 ms, total: 4.99 s\n",
      "Wall time: 4.99 s\n"
     ]
    }
   ],
   "source": [
    "%%time\n",
    "\n",
    "# Import dataset and read the data into a dataframe\n",
    "DATASET = '../../../Datasets/IP-Based/IP-Based Dataset.csv'\n",
    "df = pd.read_csv(DATASET)\n",
    "print(f'[DONE] Dataset Imported With Success')"
   ]
  },
  {
   "cell_type": "code",
   "execution_count": 5,
   "id": "42a44120",
   "metadata": {
    "scrolled": true
   },
   "outputs": [
    {
     "name": "stdout",
     "output_type": "stream",
     "text": [
      "[DONE] Empty Cells Filling (http.content_length): 0.05757309064384904\n",
      "[DONE] Empty Cells Filling (http.response.code): 0.031394018226409796\n",
      "[DONE] Empty Cells Filling (http.time): 0.009820563285673285\n",
      "[DONE] Empty Cells Filling (tcp.analysis.ack_rtt): 0.0010524898079999998\n",
      "[DONE] Empty Cells Filling (tcp.analysis.bytes_in_flight): 0.07665542563914451\n",
      "[DONE] Empty Cells Filling (tcp.analysis.initial_rtt): 0.0005186277131428573\n",
      "[DONE] Empty Cells Filling (tcp.analysis.push_bytes_sent): 0.0733303429345606\n",
      "[DONE] Empty Cells Filling (tcp.flags): -0.009500820646586599\n",
      "[DONE] Empty Cells Filling (tcp.hdr_len): 0.01946208281654316\n",
      "[DONE] Empty Cells Filling (tcp.option_kind): 0.8966217142857142\n",
      "[DONE] Empty Cells Filling (tcp.option_len): 4.952188571428572\n",
      "[DONE] Empty Cells Filling (coap.mid): -0.0010966947198726743\n",
      "[DONE] Empty Cells Filling (coap.payload_length): -0.0010748528121440292\n",
      "[DONE] Empty Cells Filling (data.len): 0.03238968212580538\n",
      "[DONE] Empty Cells Filling (tcp.len): -0.03293615057047693\n",
      "[DONE] Empty Cells Filling (tcp.pdu.size): 9.396451555555556\n",
      "[DONE] Empty Cells Filling (ip.ttl): -0.012212992302556359\n",
      "[DONE] Empty Cells Filling (http.chat): -1\n",
      "[DONE] Empty Cells Filling (http.request): -1\n",
      "[DONE] Empty Cells Filling (http.response): -1\n",
      "[DONE] Empty Cells Filling (http.response_number): -1\n",
      "[DONE] Empty Cells Filling (tcp.connection.fin): -1\n",
      "[DONE] Empty Cells Filling (tcp.connection.syn): -1\n",
      "[DONE] Empty Cells Filling (tcp.connection.synack): -1\n",
      "[DONE] Empty Cells Filling (tcp.flags.cwr): -1\n",
      "[DONE] Empty Cells Filling (tcp.flags.ecn): -1\n",
      "[DONE] Empty Cells Filling (tcp.flags.ns): -1\n",
      "[DONE] Empty Cells Filling (tcp.flags.res): -1\n",
      "[DONE] Empty Cells Filling (tcp.flags.urg): -1\n",
      "[DONE] Empty Cells Filling (ip.flags.mf): -1\n",
      "[DONE] Empty Cells Filling (ip.flags.rb): -1\n",
      "[DONE] Empty Cells Filling (ip.frag_offset): -1\n",
      "[DONE] Empty Cells Filling (coap.opt.end_marker): -1\n",
      "[DONE] Empty Cells Filling (tcp.connection.rst): -1\n",
      "[DONE] Empty Cells Filling (mqtt.dupflag): -1\n",
      "[DONE] Empty Cells Filling (mqtt.retain): -1\n",
      "[DONE] Empty Cells Filling (mqtt.unknown_version): -1\n",
      "[DONE] Empty Cells Filling (coap.code_3.0): -1\n",
      "[DONE] Empty Cells Filling (coap.code_68.0): -1\n",
      "[DONE] Empty Cells Filling (coap.code_0): -1\n",
      "[DONE] Empty Cells Filling (coap.opt.delta_3.0): -1\n",
      "[DONE] Empty Cells Filling (coap.opt.delta_12.0): -1\n",
      "[DONE] Empty Cells Filling (coap.opt.delta_0): -1\n",
      "[DONE] Empty Cells Filling (coap.opt.length_0.0): -1\n",
      "[DONE] Empty Cells Filling (coap.opt.length_12.0): -1\n",
      "[DONE] Empty Cells Filling (coap.opt.length_1): -1\n",
      "[DONE] Empty Cells Filling (coap.type_0.0): -1\n",
      "[DONE] Empty Cells Filling (coap.type_2.0): -1\n",
      "[DONE] Empty Cells Filling (coap.type_1): -1\n",
      "[DONE] Empty Cells Filling (ip.flags_0): -1\n",
      "[DONE] Empty Cells Filling (ip.flags_64): -1\n",
      "[DONE] Empty Cells Filling (eth.dst.ig): -1\n",
      "[DONE] Empty Cells Filling (eth.src.ig): -1\n",
      "[DONE] Empty Cells Filling (eth.src.lg): -1\n",
      "[DONE] Empty Cells Filling (eth.src_not_group): -1\n",
      "[DONE] Empty Cells Filling (arp.isannouncement): -1\n",
      "[DONE] Empty Cells Filling (tcp.flags.ack): 2\n",
      "[DONE] Empty Cells Filling (tcp.flags.fin): 2\n",
      "[DONE] Empty Cells Filling (tcp.flags.push): 2\n",
      "[DONE] Empty Cells Filling (tcp.flags.reset): 2\n",
      "[DONE] Empty Cells Filling (tcp.flags.syn): 2\n",
      "[DONE] Empty Cells Filling (tcp.urgent_pointer): 2\n",
      "[DONE] Empty Cells Filling (ip.flags.df): 2\n",
      "[DONE] Empty Cells Filling (mqtt.qos): 2\n"
     ]
    }
   ],
   "source": [
    "# Array: Fields to fill with the average value\n",
    "average = [\n",
    "    'http.content_length', 'http.response.code', 'http.time', 'tcp.analysis.ack_rtt', 'tcp.analysis.bytes_in_flight',\n",
    "    'tcp.analysis.initial_rtt', 'tcp.analysis.push_bytes_sent', 'tcp.flags', 'tcp.hdr_len', 'tcp.option_kind',\n",
    "    'tcp.option_len', 'coap.mid', 'coap.payload_length', 'data.len', 'tcp.len', 'tcp.pdu.size', 'ip.ttl'\n",
    "]\n",
    "\n",
    "# Array: Fields to fill with -1\n",
    "negative_one = [\n",
    "    'http.chat', 'http.request', 'http.response', 'http.response_number', 'tcp.connection.fin', 'tcp.connection.syn',\n",
    "    'tcp.connection.synack', 'tcp.flags.cwr', 'tcp.flags.ecn', 'tcp.flags.ns', 'tcp.flags.res', 'tcp.flags.urg',\n",
    "    'ip.flags.mf', 'ip.flags.rb', 'ip.frag_offset', 'coap.opt.end_marker', 'tcp.connection.rst', 'mqtt.dupflag',\n",
    "    'mqtt.retain', 'mqtt.unknown_version', 'coap.code_3.0', 'coap.code_68.0', 'coap.code_0', 'coap.opt.delta_3.0',\n",
    "    'coap.opt.delta_12.0', 'coap.opt.delta_0', 'coap.opt.length_0.0', 'coap.opt.length_12.0', 'coap.opt.length_1',\n",
    "    'coap.type_0.0', 'coap.type_2.0', 'coap.type_1', 'ip.flags_0', 'ip.flags_64', 'eth.dst.ig', 'eth.src.ig',\n",
    "    'eth.src.lg', 'eth.src_not_group', 'arp.isannouncement'\n",
    "]\n",
    "\n",
    "# Array: Fields to fill with +2\n",
    "positive_two = [\n",
    "    'tcp.flags.ack', 'tcp.flags.fin', 'tcp.flags.push', 'tcp.flags.reset', 'tcp.flags.syn', 'tcp.urgent_pointer',\n",
    "    'ip.flags.df', 'mqtt.qos'\n",
    "]\n",
    "\n",
    "fill_empty_cells(df, average, None, True)   # Fill: Average\n",
    "fill_empty_cells(df, negative_one, '-1')    # Fill: -1\n",
    "fill_empty_cells(df, positive_two, '2')     # Fill: +1"
   ]
  },
  {
   "cell_type": "code",
   "execution_count": 6,
   "id": "83f26ff1",
   "metadata": {
    "scrolled": true
   },
   "outputs": [
    {
     "name": "stdout",
     "output_type": "stream",
     "text": [
      "[INFO] Z-Score normalisation\n"
     ]
    }
   ],
   "source": [
    "# Z-Score normalisation\n",
    "from scipy.stats import zscore\n",
    "df['tcp.urgent_pointer'] = df['tcp.urgent_pointer'].astype(float)\n",
    "df['tcp.urgent_pointer'] = zscore(df['tcp.urgent_pointer'])\n",
    "\n",
    "df['coap.opt.end_marker'] = df['coap.opt.end_marker'].astype(float)\n",
    "df['coap.opt.end_marker'] = zscore(df['coap.opt.end_marker'])\n",
    "\n",
    "print('[INFO] Z-Score normalisation')"
   ]
  },
  {
   "cell_type": "code",
   "execution_count": 7,
   "id": "2c00a3c6",
   "metadata": {
    "scrolled": true
   },
   "outputs": [
    {
     "name": "stdout",
     "output_type": "stream",
     "text": [
      "[INFO] Deleting unnecessary fields\n",
      "[REMOVED] ip.flags_64\n",
      "[REMOVED] eth.lg\n",
      "[REMOVED] arp.isgratuitous\n",
      "[REMOVED] arp.opcode\n",
      "[REMOVED] coap.opt.delta_12.0\n",
      "[REMOVED] coap.payload_length\n",
      "[REMOVED] coap.code_0\n",
      "[REMOVED] coap.type_1\n",
      "[REMOVED] tcp.option_len\n",
      "[REMOVED] coap.opt.length_0.0\n",
      "[REMOVED] coap.opt.length_12.0\n",
      "[REMOVED] coap.opt.length_1\n",
      "[REMOVED] mqtt.retain\n",
      "[REMOVED] coap.opt.delta_0\n",
      "[REMOVED] coap.mid\n",
      "[REMOVED] data.len\n",
      "[REMOVED] ip.flags_0\n",
      "[REMOVED] tcp.hdr_len\n",
      "[REMOVED] tcp.flags.push\n",
      "[REMOVED] mqtt.dupflag\n",
      "[REMOVED] frame.len\n",
      "[REMOVED] ip.flags.df\n",
      "[REMOVED] ip.flags.mf\n",
      "[REMOVED] ip.ttl\n",
      "[REMOVED] tcp.flags\n",
      "[REMOVED] mqtt.qos\n",
      "[REMOVED] tcp.option_kind\n",
      "[REMOVED] coap.opt.delta_3.0\n",
      "[REMOVED] coap.code_68.0\n",
      "[REMOVED] coap.type_0.0\n",
      "[REMOVED] coap.code_3.0\n",
      "[REMOVED] coap.type_2.0\n",
      "[REMOVED] tcp.connection.rst\n",
      "[REMOVED] coap.opt.end_marker\n",
      "[REMOVED] mqtt.unknown_version\n",
      "[REMOVED] http.chat\n",
      "[REMOVED] http.response\n",
      "[REMOVED] tcp.len\n",
      "[REMOVED] tcp.pdu.size\n",
      "[REMOVED] ip.flags.rb\n",
      "[REMOVED] tcp.flags.ack\n",
      "[REMOVED] tcp.flags.reset\n",
      "[REMOVED] frame.cap_len\n",
      "[REMOVED] tcp.analysis.bytes_in_flight\n",
      "[REMOVED] tcp.analysis.push_bytes_sent\n",
      "[REMOVED] tcp.analysis.ack_rtt\n",
      "[INFO] Unnecessary fields deleted with success\n"
     ]
    }
   ],
   "source": [
    "# Features that were dropped to ensure a more reliable result\n",
    "fdelete = [\n",
    "    'ip.flags_64', 'eth.lg', 'arp.isgratuitous', 'arp.opcode',\n",
    "    'coap.opt.delta_12.0', 'coap.payload_length', 'coap.code_0', 'coap.type_1', 'tcp.option_len', \n",
    "    'coap.opt.length_0.0', 'coap.opt.length_12.0', 'coap.opt.length_1', 'mqtt.retain', 'coap.opt.delta_0',\n",
    "    'coap.mid', 'data.len', 'ip.flags_0', 'tcp.hdr_len', 'tcp.flags.push', 'mqtt.dupflag',\n",
    "    'frame.len', 'ip.flags.df', 'ip.flags.mf', 'ip.ttl', 'tcp.flags', 'mqtt.qos', 'tcp.option_kind',\n",
    "    'coap.opt.delta_3.0', 'coap.code_68.0', 'coap.type_0.0', 'coap.code_3.0', 'coap.type_2.0', 'tcp.connection.rst',\n",
    "    'coap.opt.end_marker', 'mqtt.unknown_version', 'http.chat', 'http.response', 'tcp.len', \n",
    "    'tcp.pdu.size', 'ip.flags.rb', 'tcp.flags.ack', 'tcp.flags.reset', 'frame.cap_len',\n",
    "    'tcp.analysis.bytes_in_flight', 'tcp.analysis.push_bytes_sent', 'tcp.analysis.ack_rtt'\n",
    "]\n",
    "\n",
    "# tcp.analysis.initial_rtt\n",
    "\n",
    "delete_fields(df, fdelete)"
   ]
  },
  {
   "cell_type": "code",
   "execution_count": 8,
   "id": "37dd4bb2",
   "metadata": {},
   "outputs": [
    {
     "name": "stdout",
     "output_type": "stream",
     "text": [
      "[INFO] Drop NaN\n"
     ]
    }
   ],
   "source": [
    "df.dropna(axis=1, how='any', inplace=True)\n",
    "print('[INFO] Drop NaN')"
   ]
  },
  {
   "cell_type": "code",
   "execution_count": 9,
   "id": "a1e2727c",
   "metadata": {},
   "outputs": [
    {
     "name": "stdout",
     "output_type": "stream",
     "text": [
      "[DONE] Convertion to float done with success\n"
     ]
    }
   ],
   "source": [
    "# Converting from dtypes to float\n",
    "for i in df:\n",
    "    df[i] = df[i].astype(float)\n",
    "print(f'[DONE] Convertion to float done with success')"
   ]
  },
  {
   "cell_type": "code",
   "execution_count": 10,
   "id": "f8117360",
   "metadata": {},
   "outputs": [
    {
     "name": "stdout",
     "output_type": "stream",
     "text": [
      "[DONE] Dataset with pre-processing saved with success\n",
      "CPU times: user 13.4 s, sys: 233 ms, total: 13.7 s\n",
      "Wall time: 13.9 s\n"
     ]
    }
   ],
   "source": [
    "%%time\n",
    "\n",
    "# Save the dataset with all the pre-processing and data encoding done\n",
    "DATASET_ALTER = '../../../Datasets/IP-Based/IP-Based Alter Dataset.csv'\n",
    "df.to_csv(DATASET_ALTER, index=False)\n",
    "print(f'[DONE] Dataset with pre-processing saved with success')"
   ]
  },
  {
   "cell_type": "markdown",
   "id": "5d006b45",
   "metadata": {},
   "source": [
    "### Dataset Classification & Test/Train Splitting\n",
    "\n",
    "The sections below will cover the following themes: dataset classification, splitting into training and test fractions, and saving the training and testing fractions into separated datasets."
   ]
  },
  {
   "cell_type": "code",
   "execution_count": 14,
   "id": "6f1d9d36",
   "metadata": {},
   "outputs": [
    {
     "name": "stdout",
     "output_type": "stream",
     "text": [
      "[DONE] Numpy Classification\n"
     ]
    }
   ],
   "source": [
    "import numpy as np\n",
    "\n",
    "# Convert to Numpy Classification\n",
    "\n",
    "# CLASSIFICATION: 0 - Binary / 1 - Multiclass\n",
    "CLASSIFICATION = 1\n",
    "\n",
    "# For a binary classification, use 'is_malicious' as target column\n",
    "# For a multiclass classification, use 'attack_type' as target column\n",
    "\n",
    "if (CLASSIFICATION):\n",
    "    x_columns = df.columns.drop(['attack_type', 'is_malicious'])\n",
    "    dummies = pd.get_dummies(df['attack_type'])\n",
    "else:\n",
    "    x_columns = df.columns.drop(['attack_type', 'is_malicious'])\n",
    "    dummies = pd.get_dummies(df['is_malicious'])\n",
    "    \n",
    "x = df[x_columns].values\n",
    "attack = dummies.columns\n",
    "y = dummies.values\n",
    "\n",
    "print(f'[DONE] Numpy Classification')"
   ]
  },
  {
   "cell_type": "code",
   "execution_count": 15,
   "id": "acae7a4f",
   "metadata": {},
   "outputs": [
    {
     "name": "stdout",
     "output_type": "stream",
     "text": [
      "[DONE] Training validation splitting\n"
     ]
    }
   ],
   "source": [
    "from sklearn.model_selection import train_test_split\n",
    "\n",
    "# Splitting the dataset into test and training fractions\n",
    "x_train, x_test, y_train, y_test = train_test_split(\n",
    "    x,\n",
    "    y,\n",
    "    test_size = 0.25,\n",
    "    random_state = 10\n",
    ")\n",
    "\n",
    "# Splitting the training set into training and validation sets\n",
    "x_train, x_val, y_train, y_val = train_test_split(\n",
    "    x_train,\n",
    "    y_train,\n",
    "    test_size=0.25,\n",
    "    random_state=10\n",
    ")\n",
    "print(f'[DONE] Training validation splitting')"
   ]
  },
  {
   "cell_type": "code",
   "execution_count": 16,
   "id": "36ad901e",
   "metadata": {},
   "outputs": [
    {
     "name": "stdout",
     "output_type": "stream",
     "text": [
      "[VALIDATION] Dataset Saved With Success\n",
      "[TRAINING] Dataset Saved With Success\n",
      "[TESTING] Dataset Saved With Success\n",
      "[GENERAL] Dataset Saved With Success\n"
     ]
    }
   ],
   "source": [
    "import pickle as pkl\n",
    "\n",
    "if(CLASSIFICATION):\n",
    "    # Save validation dataset\n",
    "    with open('Saved Datasets/Validation_Multiclass.pkl', 'wb') as f:\n",
    "        pkl.dump([x_val, y_val], f)    \n",
    "    print(f'[VALIDATION] Dataset Saved With Success')\n",
    "    \n",
    "    # Save training dataset\n",
    "    with open('Saved Datasets/Training_Multiclass.pkl', 'wb') as f:\n",
    "        pkl.dump([x_train, y_train], f)    \n",
    "    print(f'[TRAINING] Dataset Saved With Success')\n",
    "\n",
    "    # Save testing dataset\n",
    "    with open('Saved Datasets/Testing_Multiclass.pkl', 'wb') as f:\n",
    "        pkl.dump([x_test, y_test], f)\n",
    "    print(f'[TESTING] Dataset Saved With Success')\n",
    "    \n",
    "    # Save dataset\n",
    "    with open('Saved Datasets/Dataset_Multiclass.pkl', 'wb') as f:\n",
    "        pkl.dump([x, y], f)    \n",
    "    print(f'[GENERAL] Dataset Saved With Success')\n",
    "else:\n",
    "    # Save validation dataset\n",
    "    with open('Saved Datasets/Validation_Binary.pkl', 'wb') as f:\n",
    "        pkl.dump([x_val, y_val], f)    \n",
    "    print(f'[VALIDATION] Dataset Saved With Success')\n",
    "    \n",
    "    # Save training dataset\n",
    "    with open('Saved Datasets/Training_Binary.pkl', 'wb') as f:\n",
    "        pkl.dump([x_train, y_train], f)    \n",
    "    print(f'[TRAINING] Dataset Saved With Success')\n",
    "\n",
    "    # Save testing dataset\n",
    "    with open('Saved Datasets/Testing_Binary.pkl', 'wb') as f:\n",
    "        pkl.dump([x_test, y_test], f)\n",
    "    print(f'[TESTING] Dataset Saved With Success')\n",
    "    \n",
    "    # Save dataset\n",
    "    with open('Saved Datasets/Dataset_Binary.pkl', 'wb') as f:\n",
    "        pkl.dump([x, y], f)    \n",
    "    print(f'[GENERAL] Dataset Saved With Success')"
   ]
  }
 ],
 "metadata": {
  "kernelspec": {
   "display_name": "Python 3 (ipykernel)",
   "language": "python",
   "name": "python3"
  },
  "language_info": {
   "codemirror_mode": {
    "name": "ipython",
    "version": 3
   },
   "file_extension": ".py",
   "mimetype": "text/x-python",
   "name": "python",
   "nbconvert_exporter": "python",
   "pygments_lexer": "ipython3",
   "version": "3.9.2"
  }
 },
 "nbformat": 4,
 "nbformat_minor": 5
}
